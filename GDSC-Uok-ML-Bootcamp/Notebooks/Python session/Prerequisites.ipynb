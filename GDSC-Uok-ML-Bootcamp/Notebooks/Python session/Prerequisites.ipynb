{
 "cells": [
  {
   "cell_type": "markdown",
   "metadata": {},
   "source": [
    "# Python\n",
    "\n",
    "Python is an interpreted high-level general-purpose programming language. Its design philosophy emphasizes code readability with its use of significant indentation. Its language constructs as well as its object-oriented approach aim to help programmers write clear, logical code for small and large-scale projects."
   ]
  },
  {
   "cell_type": "markdown",
   "metadata": {},
   "source": [
    "## Download Python\n",
    "\n",
    "Link : https://www.python.org/\n",
    "\n",
    "Then install it"
   ]
  },
  {
   "cell_type": "markdown",
   "metadata": {},
   "source": [
    "# Pip\n",
    "\n",
    "pip is a package-management system written in Python used to install and manage software packages."
   ]
  },
  {
   "cell_type": "markdown",
   "metadata": {},
   "source": [
    "# Download PIP\n",
    "\n",
    "Download get-pip.py then,\n",
    "\n",
    "Follow the instructions from here: https://phoenixnap.com/kb/install-pip-windows"
   ]
  },
  {
   "cell_type": "markdown",
   "metadata": {},
   "source": [
    "# Jupyter Notebook\n",
    "\n",
    "Jupyter notebook is an open-source IDE that is used to create Jupyter documents that can be created and shared with live codes.\n",
    "\n",
    "Download it by just typing \"pip install notebook\" in cmd \n",
    "\n",
    "\n",
    "link: https://jupyter.org/"
   ]
  },
  {
   "cell_type": "markdown",
   "metadata": {},
   "source": [
    "# Anaconda\n",
    "## data science toolkit\n",
    "\n",
    "All of the above things you can simply do with Anaconda\n",
    "\n",
    "link: https://www.anaconda.com/products/individual"
   ]
  },
  {
   "cell_type": "markdown",
   "metadata": {},
   "source": [
    "# All DONE !!!"
   ]
  },
  {
   "cell_type": "markdown",
   "metadata": {},
   "source": [
    "# now open a file in jupyter notebook"
   ]
  },
  {
   "cell_type": "markdown",
   "metadata": {},
   "source": [
    "steps to follow:\n",
    "    \n",
    "    .Open folder\n",
    "    .click on path section\n",
    "    .type cmd\n",
    "    .then enter \n",
    "    .type jupyter notebook\n",
    "    \n",
    "then an IDE will be open in your default browser\n",
    "\n",
    "click on New -> Python 3 to create a new notebook"
   ]
  }
 ],
 "metadata": {
  "kernelspec": {
   "display_name": "Python 3",
   "language": "python",
   "name": "python3"
  },
  "language_info": {
   "codemirror_mode": {
    "name": "ipython",
    "version": 3
   },
   "file_extension": ".py",
   "mimetype": "text/x-python",
   "name": "python",
   "nbconvert_exporter": "python",
   "pygments_lexer": "ipython3",
   "version": "3.8.5"
  }
 },
 "nbformat": 4,
 "nbformat_minor": 4
}
